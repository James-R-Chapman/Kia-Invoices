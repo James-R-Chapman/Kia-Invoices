{
  "nbformat": 4,
  "nbformat_minor": 0,
  "metadata": {
    "colab": {
      "provenance": [],
      "authorship_tag": "ABX9TyMYslyQEDJ/Rt2BA06AlJJX",
      "include_colab_link": true
    },
    "kernelspec": {
      "name": "python3",
      "display_name": "Python 3"
    },
    "language_info": {
      "name": "python"
    }
  },
  "cells": [
    {
      "cell_type": "markdown",
      "metadata": {
        "id": "view-in-github",
        "colab_type": "text"
      },
      "source": [
        "<a href=\"https://colab.research.google.com/github/James-R-Chapman/Kia-Invoices/blob/main/Packing_List.ipynb\" target=\"_parent\"><img src=\"https://colab.research.google.com/assets/colab-badge.svg\" alt=\"Open In Colab\"/></a>"
      ]
    },
    {
      "cell_type": "code",
      "execution_count": null,
      "metadata": {
        "id": "CcyCP2vAeUpI"
      },
      "outputs": [],
      "source": [
        "import csv\n",
        "import re\n",
        "from pdfminer.high_level import extract_text\n",
        "\n",
        "pdf_path = '/content/packing list.pdf'\n",
        "\n",
        "# Extract text from PDF file\n",
        "text = extract_text(pdf_path)\n",
        "\n",
        "# Split text into lines and remove any empty lines\n",
        "lines = [line.strip() for line in text.split('\\n') if line.strip()]\n",
        "\n",
        "# Split each line into columns using regex\n",
        "columns = []\n",
        "for line in lines:\n",
        "    # Use regex to split line into columns\n",
        "    # Here, we split the line based on tab characters and multiple spaces\n",
        "    # You can adjust this regex as needed to split the line correctly\n",
        "    cols = re.split(r'\\t| {2,}', line)\n",
        "    # Remove empty columns and append to list of columns\n",
        "    columns.extend([col for col in cols if col.strip()])\n",
        "\n",
        "# Write columns to CSV file\n",
        "with open('/content/packing list.csv', 'w', newline='') as csv_file:\n",
        "    writer = csv.writer(csv_file, delimiter='\\t')\n",
        "    writer.writerow(columns)\n"
      ]
    },
    {
      "cell_type": "code",
      "source": [
        "import csv\n",
        "import re\n",
        "import datetime\n",
        "from pdfminer.high_level import extract_text\n",
        "\n",
        "pdf_path = '/content/packing list.pdf'\n",
        "\n",
        "# Extract text from PDF file\n",
        "text = extract_text(pdf_path)\n",
        "\n",
        "# Split text into lines and remove any empty lines\n",
        "lines = [line.strip() for line in text.split('\\n') if line.strip()]\n",
        "\n",
        "# Split each line into columns using regex\n",
        "columns = []\n",
        "for line in lines:\n",
        "    # Use regex to split line into columns\n",
        "    # Here, we split the line based on tab characters and multiple spaces\n",
        "    # You can adjust this regex as needed to split the line correctly\n",
        "    cols = re.split(r'\\t| {2,}', line)\n",
        "    # Remove empty columns and append to list of columns\n",
        "    columns.extend([col for col in cols if col.strip()])\n",
        "\n",
        "# Find the index of the column containing today's date\n",
        "today = datetime.date.today().strftime('%m/%d/%Y')\n",
        "date_col_index = None\n",
        "for i, col in enumerate(columns):\n",
        "    if col.endswith(today):\n",
        "        date_col_index = i\n",
        "        break\n",
        "\n",
        "# If no column contains today's date, exit the script\n",
        "if date_col_index is None:\n",
        "    print(f\"No data found for today's date: {today}\")\n",
        "    exit()\n",
        "\n",
        "# Extract data from rows that end with today's date\n",
        "rows = []\n",
        "for line in lines:\n",
        "    cols = re.split(r'\\t| {2,}', line)\n",
        "    # Only add the row if it ends with today's date\n",
        "    if cols[date_col_index].endswith(today):\n",
        "        rows.append(cols)\n",
        "\n",
        "# Write rows to CSV file\n",
        "with open('/content/packing list.csv', 'w', newline='') as csv_file:\n",
        "    writer = csv.writer(csv_file, delimiter='\\t')\n",
        "    # Write header row\n",
        "    writer.writerow(columns)\n",
        "    # Write data rows\n",
        "    for row in rows:\n",
        "        writer.writerow(row)\n"
      ],
      "metadata": {
        "id": "YiNZgG-9fbT1"
      },
      "execution_count": null,
      "outputs": []
    }
  ]
}