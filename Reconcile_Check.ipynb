{
  "nbformat": 4,
  "nbformat_minor": 0,
  "metadata": {
    "colab": {
      "provenance": [],
      "authorship_tag": "ABX9TyNHGPH4MEvaiz8MfUOc7p+v",
      "include_colab_link": true
    },
    "kernelspec": {
      "name": "python3",
      "display_name": "Python 3"
    },
    "language_info": {
      "name": "python"
    }
  },
  "cells": [
    {
      "cell_type": "markdown",
      "metadata": {
        "id": "view-in-github",
        "colab_type": "text"
      },
      "source": [
        "<a href=\"https://colab.research.google.com/github/James-R-Chapman/Kia-Invoices/blob/main/Reconcile_Check.ipynb\" target=\"_parent\"><img src=\"https://colab.research.google.com/assets/colab-badge.svg\" alt=\"Open In Colab\"/></a>"
      ]
    },
    {
      "cell_type": "code",
      "execution_count": null,
      "metadata": {
        "id": "RM0iNV3QfoW9"
      },
      "outputs": [],
      "source": [
        "import openpyxl\n",
        "from itertools import islice\n",
        "\n",
        "# Open the workbook\n",
        "workbook = openpyxl.load_workbook('/content/extracted_data.xlsx')\n",
        "\n",
        "# Get the 'Invoices' sheet\n",
        "invoices_sheet = workbook['Invoices']\n",
        "credits_sheet = workbook['Credits']\n",
        "\n",
        "# Create a dictionary to store the invoice totals\n",
        "invoice_totals = {}\n",
        "has_discrepancies = False  # initialize flag variable\n",
        "\n",
        "# Iterate through the 'Invoices' sheet, adding up the price values for each invoice\n",
        "for i, row in enumerate(invoices_sheet.iter_rows(min_row=1, values_only=True), start=1):\n",
        "    if i == 1:\n",
        "        continue  # skip header row\n",
        "    invoice_no = row[0]\n",
        "    price = row[10]\n",
        "    if invoice_no not in invoice_totals:\n",
        "        invoice_totals[invoice_no] = 0\n",
        "    if price is not None:\n",
        "        try:\n",
        "            price = float(price)\n",
        "        except ValueError:\n",
        "            print(f\"Could not convert price {price} to float in row {i}\")\n",
        "        else:\n",
        "            invoice_totals[invoice_no] += price\n",
        "\n",
        "for i, row in enumerate(credits_sheet.iter_rows(min_row=1, values_only=True), start=1):\n",
        "    if i == 1:\n",
        "        continue  # skip header row\n",
        "    invoice_no = row[0]\n",
        "    price = row[10]\n",
        "    if invoice_no not in invoice_totals:\n",
        "        invoice_totals[invoice_no] = 0\n",
        "    if price is not None:\n",
        "        try:\n",
        "            price = float(price)\n",
        "        except ValueError:\n",
        "            print(f\"Could not convert price {price} to float in row {i}\")\n",
        "        else:\n",
        "            invoice_totals[invoice_no] += price\n",
        "\n",
        "# Round the invoice totals to two decimal places\n",
        "for invoice_no in invoice_totals:\n",
        "    invoice_totals[invoice_no] = round(invoice_totals[invoice_no], 2)\n",
        "\n",
        "# Get the 'Kia Invoices' sheet\n",
        "kia_sheet = workbook['Kia Invoices']\n",
        "\n",
        "# Iterate through the 'Kia Invoices' sheet, comparing the subtotal value to the invoice total for each invoice\n",
        "for row in islice(kia_sheet.iter_rows(min_row=1, values_only=True), 1, None):\n",
        "    invoice_no = row[0]\n",
        "    subtotal = row[4]\n",
        "    if invoice_no in invoice_totals:\n",
        "        if subtotal != invoice_totals[invoice_no]:\n",
        "            print(f\"Invoice {invoice_no} subtotal does not match invoice total: {subtotal} vs {invoice_totals[invoice_no]}\")\n",
        "            has_discrepancies = True  # set flag variable to True\n",
        "    elif invoice_no not in invoice_totals:\n",
        "        print(f\"No invoice total found for invoice {invoice_no}\")\n",
        "        has_discrepancies = True  # set flag variable to True\n",
        "\n",
        "if not has_discrepancies:  # check flag variable\n",
        "    print(\"All Invoices Reconcile\")"
      ]
    }
  ]
}